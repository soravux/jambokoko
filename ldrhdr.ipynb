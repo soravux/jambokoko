{
 "cells": [
  {
   "cell_type": "code",
   "execution_count": 1,
   "metadata": {
    "collapsed": false
   },
   "outputs": [],
   "source": [
    "import os, sys, urllib, gzip, glob\n",
    "import cPickle as pickle\n",
    "sys.setrecursionlimit(10000)"
   ]
  },
  {
   "cell_type": "code",
   "execution_count": 2,
   "metadata": {
    "collapsed": false,
    "scrolled": true
   },
   "outputs": [],
   "source": [
    "import matplotlib.pyplot as plt\n",
    "%matplotlib inline\n",
    "import numpy as np\n",
    "from scipy.misc import imread\n",
    "from IPython.display import Image as IPImage\n",
    "from PIL import Image"
   ]
  },
  {
   "cell_type": "code",
   "execution_count": 3,
   "metadata": {
    "collapsed": false
   },
   "outputs": [
    {
     "name": "stderr",
     "output_type": "stream",
     "text": [
      "Using gpu device 0: Tesla K40c (CNMeM is disabled)\n"
     ]
    }
   ],
   "source": [
    "from lasagne.layers import get_output, InputLayer, DenseLayer, Upscale2DLayer, ReshapeLayer\n",
    "from lasagne.nonlinearities import rectify, leaky_rectify, tanh\n",
    "from lasagne.updates import nesterov_momentum\n",
    "from lasagne.objectives import categorical_crossentropy\n",
    "from nolearn.lasagne import NeuralNet, BatchIterator, PrintLayerInfo"
   ]
  },
  {
   "cell_type": "code",
   "execution_count": 4,
   "metadata": {
    "collapsed": false
   },
   "outputs": [
    {
     "name": "stdout",
     "output_type": "stream",
     "text": [
      "Using cuda_convnet (faster)\n"
     ]
    }
   ],
   "source": [
    "from lasagne.layers import Conv2DLayer as Conv2DLayerSlow\n",
    "from lasagne.layers import MaxPool2DLayer as MaxPool2DLayerSlow\n",
    "try:\n",
    "    from lasagne.layers.cuda_convnet import Conv2DCCLayer as Conv2DLayerFast\n",
    "    from lasagne.layers.cuda_convnet import MaxPool2DCCLayer as MaxPool2DLayerFast\n",
    "    print 'Using cuda_convnet (faster)'\n",
    "except TypeError: #ImportError:\n",
    "    from lasagne.layers import Conv2DLayer as Conv2DLayerFast\n",
    "    from lasagne.layers import MaxPool2DLayer as MaxPool2DLayerFast\n",
    "    print 'Using lasagne.layers (slower)'"
   ]
  },
  {
   "cell_type": "code",
   "execution_count": 5,
   "metadata": {
    "collapsed": false
   },
   "outputs": [],
   "source": [
    "# Load data\n",
    "data_path = '/home/local/yahog/neuralnets/ldrhdr/data/'\n",
    "#hdr = glob.glob(os.path.join(data_path, '*.pkl'))\n",
    "ldr = glob.glob(os.path.join(data_path, '*.jpg'))\n",
    "\n",
    "data_ldr = np.zeros((len(ldr), 1, 256, 256))\n",
    "data_hdr = np.zeros((len(ldr), 1, 256, 256))\n",
    "\n",
    "def rgb2gray(rgb):\n",
    "    return np.dot(rgb[...,:3], [0.299, 0.587, 0.144])\n",
    "\n",
    "for idx, image in enumerate(ldr):\n",
    "    data[idx, 1, :, :] = rgb2gray(imread(image))\n",
    "    with open(image[:-7] + \"_hdr.pkl\", 'rb') as fhdl:\n",
    "        data_hdr[idx, 1, :, :] = rgb2gray(pickle.load(fhdl))\n",
    "    "
   ]
  },
  {
   "cell_type": "code",
   "execution_count": 6,
   "metadata": {
    "collapsed": false
   },
   "outputs": [
    {
     "name": "stdout",
     "output_type": "stream",
     "text": [
      "X type and shape: float32 (50000, 1, 28, 28)\n",
      "X.min(): 0.0\n",
      "X.max(): 0.996094\n"
     ]
    }
   ],
   "source": [
    "# reshape from (50000, 784) to 4D tensor (50000, 1, 28, 28)\n",
    "#X = np.reshape(X, (-1, 1, 28, 28))\n",
    "print 'data_ldr type and shape:', data_ldr.dtype, data_ldr.shape\n",
    "print 'data_ldr.min():', data_ldr.min()\n",
    "print 'data_ldr.max():', data_ldr.max()"
   ]
  },
  {
   "cell_type": "code",
   "execution_count": 7,
   "metadata": {
    "collapsed": false
   },
   "outputs": [
    {
     "name": "stdout",
     "output_type": "stream",
     "text": [
      "X_out: float32 (50000, 784)\n"
     ]
    }
   ],
   "source": [
    "# we need our target to be 1 dimensional\n",
    "data_hdr = data_hdr.reshape((X.shape[0], -1))\n",
    "print 'X_out:', data_hdr.dtype, data_hdr.shape"
   ]
  },
  {
   "cell_type": "code",
   "execution_count": 8,
   "metadata": {
    "collapsed": false
   },
   "outputs": [],
   "source": [
    "conv_num_filters = 16\n",
    "filter_size = 3\n",
    "pool_size = 2\n",
    "encode_size = 16\n",
    "dense_mid_size = 128\n",
    "pad_in = 'valid'\n",
    "pad_out = 'full'\n",
    "layers = [\n",
    "    (InputLayer, {'shape': (None, X.shape[1], X.shape[2], X.shape[3])}), \n",
    "    (Conv2DLayerFast, {'num_filters': conv_num_filters, 'filter_size': filter_size, 'pad': pad_in}),\n",
    "    (Conv2DLayerFast, {'num_filters': conv_num_filters, 'filter_size': filter_size, 'pad': pad_in}),\n",
    "    (MaxPool2DLayerFast, {'pool_size': pool_size}),\n",
    "    (Conv2DLayerFast, {'num_filters': 2*conv_num_filters, 'filter_size': filter_size, 'pad': pad_in}),\n",
    "    (MaxPool2DLayerFast, {'pool_size': pool_size}),\n",
    "    (ReshapeLayer, {'shape': (([0], -1))}),\n",
    "    (DenseLayer, {'num_units': dense_mid_size}),\n",
    "    (DenseLayer, {'name': 'encode', 'num_units': encode_size}),\n",
    "    (DenseLayer, {'num_units': dense_mid_size}),\n",
    "    (DenseLayer, {'num_units': 800}),\n",
    "    (ReshapeLayer, {'shape': (([0], 2*conv_num_filters, 5, 5))}),\n",
    "    (Upscale2DLayer, {'scale_factor': pool_size}),\n",
    "    (Conv2DLayerFast, {'num_filters': conv_num_filters, 'filter_size': filter_size, 'pad': pad_out}),\n",
    "    (Upscale2DLayer, {'scale_factor': pool_size}),\n",
    "    (Conv2DLayerSlow, {'num_filters': conv_num_filters, 'filter_size': filter_size, 'pad': pad_out}),\n",
    "    (Conv2DLayerSlow, {'num_filters': 1, 'filter_size': filter_size, 'pad': pad_out}),\n",
    "    (ReshapeLayer, {'shape': (([0], -1))}),\n",
    "]"
   ]
  },
  {
   "cell_type": "code",
   "execution_count": 9,
   "metadata": {
    "collapsed": false
   },
   "outputs": [],
   "source": [
    "ae = NeuralNet(\n",
    "    layers=layers,\n",
    "    max_epochs=20,\n",
    "    \n",
    "    update=nesterov_momentum,\n",
    "    update_learning_rate=0.01,\n",
    "    update_momentum=0.975,\n",
    "    \n",
    "    regression=True,\n",
    "    verbose=1\n",
    ")\n",
    "# ae.initialize()\n",
    "# PrintLayerInfo()(ae)"
   ]
  },
  {
   "cell_type": "code",
   "execution_count": 10,
   "metadata": {
    "collapsed": false
   },
   "outputs": [
    {
     "name": "stdout",
     "output_type": "stream",
     "text": [
      "# Neural Network with 224177 learnable parameters\n",
      "\n",
      "## Layer information\n",
      "\n",
      "  #  name          size\n",
      "---  ------------  --------\n",
      "  0  input0        1x28x28\n",
      "  1  conv2dcc1     16x26x26\n",
      "  2  conv2dcc2     16x24x24\n",
      "  3  maxpool2dcc3  16x12x12\n",
      "  4  conv2dcc4     32x10x10\n",
      "  5  maxpool2dcc5  32x5x5\n",
      "  6  reshape6      800\n",
      "  7  dense7        128\n",
      "  8  encode        16\n",
      "  9  dense9        128\n",
      " 10  dense10       800\n",
      " 11  reshape11     32x5x5\n",
      " 12  upscale2d12   32x10x10\n",
      " 13  conv2dcc13    16x12x12\n",
      " 14  upscale2d14   16x24x24\n",
      " 15  conv2d15      16x26x26\n",
      " 16  conv2d16      1x28x28\n",
      " 17  reshape17     784\n",
      "\n",
      "  epoch    train loss    valid loss    train/val  dur\n",
      "-------  ------------  ------------  -----------  -------\n",
      "      1       \u001b[36m0.06966\u001b[0m       \u001b[32m0.05405\u001b[0m      1.28875  140.59s\n",
      "      2       \u001b[36m0.04523\u001b[0m       \u001b[32m0.03716\u001b[0m      1.21718  175.31s\n",
      "      3       \u001b[36m0.03323\u001b[0m       \u001b[32m0.02991\u001b[0m      1.11093  154.54s\n",
      "      4       \u001b[36m0.02850\u001b[0m       \u001b[32m0.02687\u001b[0m      1.06094  142.74s\n",
      "      5       \u001b[36m0.02618\u001b[0m       \u001b[32m0.02503\u001b[0m      1.04612  192.67s\n",
      "      6       \u001b[36m0.02458\u001b[0m       \u001b[32m0.02366\u001b[0m      1.03884  141.55s\n",
      "      7       \u001b[36m0.02331\u001b[0m       \u001b[32m0.02253\u001b[0m      1.03462  200.36s\n",
      "      8       \u001b[36m0.02223\u001b[0m       \u001b[32m0.02153\u001b[0m      1.03256  163.65s\n",
      "      9       \u001b[36m0.02121\u001b[0m       \u001b[32m0.02049\u001b[0m      1.03533  125.23s\n",
      "     10       \u001b[36m0.02024\u001b[0m       \u001b[32m0.01964\u001b[0m      1.03053  107.95s\n",
      "     11       \u001b[36m0.01949\u001b[0m       \u001b[32m0.01901\u001b[0m      1.02532  127.85s\n",
      "     12       \u001b[36m0.01889\u001b[0m       \u001b[32m0.01850\u001b[0m      1.02122  121.95s\n",
      "     13       \u001b[36m0.01840\u001b[0m       \u001b[32m0.01807\u001b[0m      1.01828  141.93s\n",
      "     14       \u001b[36m0.01798\u001b[0m       \u001b[32m0.01769\u001b[0m      1.01633  124.71s\n",
      "     15       \u001b[36m0.01761\u001b[0m       \u001b[32m0.01736\u001b[0m      1.01438  149.70s\n",
      "     16       \u001b[36m0.01729\u001b[0m       \u001b[32m0.01706\u001b[0m      1.01328  130.98s\n",
      "     17       \u001b[36m0.01700\u001b[0m       \u001b[32m0.01680\u001b[0m      1.01224  134.38s\n",
      "     18       \u001b[36m0.01674\u001b[0m       \u001b[32m0.01655\u001b[0m      1.01181  123.90s\n",
      "     19       \u001b[36m0.01650\u001b[0m       \u001b[32m0.01633\u001b[0m      1.01073  128.38s\n",
      "     20       \u001b[36m0.01628\u001b[0m       \u001b[32m0.01611\u001b[0m      1.01099  122.93s\n"
     ]
    },
    {
     "data": {
      "text/plain": [
       "NeuralNet(X_tensor_type=None,\n",
       "     batch_iterator_test=<nolearn.lasagne.base.BatchIterator object at 0x7f98dbbc67d0>,\n",
       "     batch_iterator_train=<nolearn.lasagne.base.BatchIterator object at 0x7f98dbbc6750>,\n",
       "     custom_score=None,\n",
       "     layers=[(<class 'lasagne.layers.input.InputLayer'>, {'shape': (None, 1, 28, 28)}), (<class 'lasagne.layers.cuda_convnet.Conv2DCCLayer'>, {'filter_size': 3, 'pad': 'valid', 'num_filters': 16}), (<class 'lasagne.layers.cuda_convnet.Conv2DCCLayer'>, {'filter_size': 3, 'pad': 'valid', 'num_filters': 16}...d': 'full', 'num_filters': 1}), (<class 'lasagne.layers.shape.ReshapeLayer'>, {'shape': ([0], -1)})],\n",
       "     loss=None, max_epochs=20, more_params={},\n",
       "     objective=<function objective at 0x7f98dbbca320>,\n",
       "     objective_loss_function=<function squared_error at 0x7f98e0092410>,\n",
       "     on_epoch_finished=[<nolearn.lasagne.handlers.PrintLog instance at 0x7f98dbbcf2d8>],\n",
       "     on_training_finished=[],\n",
       "     on_training_started=[<nolearn.lasagne.handlers.PrintLayerInfo instance at 0x7f98dbbcf320>],\n",
       "     regression=True,\n",
       "     train_split=<nolearn.lasagne.base.TrainSplit object at 0x7f98dbbc6810>,\n",
       "     update=<function nesterov_momentum at 0x7f98e0092c80>,\n",
       "     update_learning_rate=0.01, update_momentum=0.975,\n",
       "     use_label_encoder=False, verbose=1,\n",
       "     y_tensor_type=TensorType(float32, matrix))"
      ]
     },
     "execution_count": 10,
     "metadata": {},
     "output_type": "execute_result"
    }
   ],
   "source": [
    "ae.fit(data_ldr, data_hdr)"
   ]
  },
  {
   "cell_type": "code",
   "execution_count": 11,
   "metadata": {
    "collapsed": false
   },
   "outputs": [
    {
     "data": {
      "image/png": "[encoded data removed]",
      "text/plain": [
       "<matplotlib.figure.Figure at 0x7f98dbbd24d0>"
      ]
     },
     "metadata": {},
     "output_type": "display_data"
    }
   ],
   "source": [
    "from nolearn.lasagne.visualize import plot_loss\n",
    "plot_loss(ae)"
   ]
  },
  {
   "cell_type": "code",
   "execution_count": 12,
   "metadata": {
    "collapsed": false
   },
   "outputs": [],
   "source": [
    "# ae.save_params_to('mnist/conv_ae.np')\n",
    "pickle.dump(ae, open('mnist/conv_ae.pkl','w'))\n",
    "# ae = pickle.load(open('mnist/conv_ae.pkl','r'))\n",
    "# ae.layers"
   ]
  },
  {
   "cell_type": "code",
   "execution_count": 13,
   "metadata": {
    "collapsed": false
   },
   "outputs": [
    {
     "name": "stdout",
     "output_type": "stream",
     "text": [
      "(50000, 28, 28) (50000, 1, 28, 28)\n"
     ]
    }
   ],
   "source": [
    "X_pred = ae.predict(X).reshape(-1, 28, 28)\n",
    "X_pred = np.rint(256. * X_pred).astype(int)\n",
    "X_pred = np.clip(X_pred, a_min = 0, a_max = 255)\n",
    "X_pred = X_pred.astype('uint8')\n",
    "print X_pred.shape , X.shape"
   ]
  },
  {
   "cell_type": "code",
   "execution_count": 14,
   "metadata": {
    "collapsed": false
   },
   "outputs": [],
   "source": [
    "!mkdir -p data\n",
    "!mkdir -p montage"
   ]
  },
  {
   "cell_type": "code",
   "execution_count": 15,
   "metadata": {
    "collapsed": false
   },
   "outputs": [
    {
     "name": "stdout",
     "output_type": "stream",
     "text": [
      "2\n"
     ]
    },
    {
     "data": {
      "image/png": "[encoded data removed]",
      "text/plain": [
       "<IPython.core.display.Image object>"
      ]
     },
     "execution_count": 15,
     "metadata": {},
     "output_type": "execute_result"
    }
   ],
   "source": [
    "###  show random inputs / outputs side by side\n",
    "\n",
    "def get_picture_array(X, rescale=4):\n",
    "    array = X.reshape(28,28)\n",
    "    array = np.clip(array, a_min = 0, a_max = 255)\n",
    "    return  array.repeat(rescale, axis = 0).repeat(rescale, axis = 1).astype(np.uint8())\n",
    "\n",
    "def compare_images(index):\n",
    "    print index\n",
    "    original_image = Image.fromarray(get_picture_array(255 * X[index]))\n",
    "    new_size = (original_image.size[0] * 2, original_image.size[1])\n",
    "    new_im = Image.new('L', new_size)\n",
    "    new_im.paste(original_image, (0,0))\n",
    "    rec_image = Image.fromarray(get_picture_array(X_pred[index]))\n",
    "    new_im.paste(rec_image, (original_image.size[0],0))\n",
    "    new_im.save('data/test.png', format=\"PNG\")\n",
    "    return IPImage('data/test.png')\n",
    "\n",
    "compare_images(2)\n",
    "# compare_images(np.random.randint(50000))"
   ]
  },
  {
   "cell_type": "code",
   "execution_count": 16,
   "metadata": {
    "collapsed": false
   },
   "outputs": [],
   "source": [
    "## we find the encode layer from our ae, and use it to define an encoding function\n",
    "\n",
    "def get_layer_by_name(net, name):\n",
    "    for i, layer in enumerate(net.get_all_layers()):\n",
    "        if layer.name == name:\n",
    "            return layer, i\n",
    "    return None, None\n",
    "encode_layer, encode_layer_index = get_layer_by_name(ae, 'encode')\n",
    "\n",
    "def encode_input(encode_layer, X):\n",
    "    return get_output(encode_layer, inputs=X).eval()\n",
    "\n",
    "X_encoded = encode_input(encode_layer, X)"
   ]
  },
  {
   "cell_type": "code",
   "execution_count": 17,
   "metadata": {
    "collapsed": false
   },
   "outputs": [],
   "source": [
    "next_layer = ae.get_all_layers()[encode_layer_index + 1]\n",
    "final_layer = ae.get_all_layers()[-1]\n",
    "new_layer = InputLayer(shape=(None, encode_layer.num_units))\n",
    "\n",
    "# N.B after we do this, we won't be able to use the original autoencoder , as the layers are broken up\n",
    "next_layer.input_layer = new_layer"
   ]
  },
  {
   "cell_type": "code",
   "execution_count": 26,
   "metadata": {
    "collapsed": false
   },
   "outputs": [
    {
     "name": "stdout",
     "output_type": "stream",
     "text": [
      "(1, 784)\n"
     ]
    },
    {
     "data": {
      "image/png": "[encoded data removed]",
      "text/plain": [
       "<IPython.core.display.Image object>"
      ]
     },
     "execution_count": 26,
     "metadata": {},
     "output_type": "execute_result"
    }
   ],
   "source": [
    "#def get_output_from_nn(last_layer, X):\n",
    "#    indices = np.arange(128, X.shape[0], 128)\n",
    "#    sys.stdout.flush()\n",
    "#\n",
    "#    # not splitting into batches can cause a memory error\n",
    "#    X_batches = np.split(X, indices)\n",
    "#    out = []\n",
    "#    for count, X_batch in enumerate(X_batches):\n",
    "#        out.append(get_output(last_layer, X_batch).eval())\n",
    "#        sys.stdout.flush()\n",
    "#    return np.vstack(out)\n",
    "\n",
    "def get_output_from_nn(last_layer, X):\n",
    "    return get_output(last_layer,X).eval()\n",
    "\n",
    "def decode_encoded_input(X):\n",
    "    return get_output_from_nn(final_layer, X)\n",
    "\n",
    "X_decoded = 256 * decode_encoded_input(X_encoded[2])\n",
    "\n",
    "X_decoded = np.rint(X_decoded).astype(int)\n",
    "X_decoded = np.clip(X_decoded, a_min = 0, a_max = 255)\n",
    "X_decoded  = X_decoded.astype('uint8')\n",
    "print X_decoded.shape\n",
    "\n",
    "pic_array = get_picture_array(X_decoded)\n",
    "image = Image.fromarray(pic_array)\n",
    "image.save('data/test.png', format=\"PNG\")  \n",
    "IPImage('data/test.png')"
   ]
  },
  {
   "cell_type": "code",
   "execution_count": 23,
   "metadata": {
    "collapsed": false
   },
   "outputs": [],
   "source": [
    "enc_std = X_encoded.std(axis=0)\n",
    "enc_mean = X_encoded.mean(axis=0)\n",
    "enc_min = X_encoded.min(axis=0)\n",
    "enc_max = X_encoded.max(axis=0)\n",
    "m = X_encoded.shape[1]"
   ]
  },
  {
   "cell_type": "code",
   "execution_count": 24,
   "metadata": {
    "collapsed": false
   },
   "outputs": [],
   "source": [
    "n = 256\n",
    "generated = np.random.normal(0, 1, (n, m)) * enc_std + enc_mean\n",
    "generated = generated.astype(np.float32).clip(enc_min, enc_max)\n",
    "X_decoded = decode_encoded_input(generated) * 256.\n",
    "X_decoded = np.rint(X_decoded ).astype(int)\n",
    "X_decoded = np.clip(X_decoded, a_min = 0, a_max = 255)\n",
    "X_decoded  = X_decoded.astype('uint8')\n",
    "!mkdir -p montage\n",
    "for i in range(n):\n",
    "    pic_array = get_picture_array(X_decoded[i], rescale=1)\n",
    "    image = Image.fromarray(pic_array)\n",
    "    image.save('montage/{0:03d}.png'.format(i), format='png')"
   ]
  },
  {
   "cell_type": "code",
   "execution_count": 25,
   "metadata": {
    "collapsed": false
   },
   "outputs": [
    {
     "data": {
      "image/png": "[encoded data removed]",
      "text/plain": [
       "<IPython.core.display.Image object>"
      ]
     },
     "execution_count": 25,
     "metadata": {},
     "output_type": "execute_result"
    }
   ],
   "source": [
    "!montage -mode concatenate -tile 16x montage/*.png montage.png\n",
    "IPImage('montage.png')"
   ]
  },
  {
   "cell_type": "code",
   "execution_count": null,
   "metadata": {
    "collapsed": true
   },
   "outputs": [],
   "source": []
  }
 ],
 "metadata": {
  "kernelspec": {
   "display_name": "Python 2",
   "language": "python",
   "name": "python2"
  },
  "language_info": {
   "codemirror_mode": {
    "name": "ipython",
    "version": 2
   },
   "file_extension": ".py",
   "mimetype": "text/x-python",
   "name": "python",
   "nbconvert_exporter": "python",
   "pygments_lexer": "ipython2",
   "version": "2.7.10"
  }
 },
 "nbformat": 4,
 "nbformat_minor": 0
}
